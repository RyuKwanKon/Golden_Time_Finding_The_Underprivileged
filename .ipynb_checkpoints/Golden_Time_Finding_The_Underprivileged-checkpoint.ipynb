{
 "cells": [
  {
   "cell_type": "code",
   "execution_count": 1,
   "metadata": {
    "colab": {
     "base_uri": "https://localhost:8080/"
    },
    "executionInfo": {
     "elapsed": 16362,
     "status": "ok",
     "timestamp": 1685626611560,
     "user": {
      "displayName": "류관곤",
      "userId": "16262288503980114066"
     },
     "user_tz": -540
    },
    "id": "PwqzvBteKhIV",
    "outputId": "ccb5355e-e90d-4ad2-add2-56d632ab5540",
    "scrolled": false
   },
   "outputs": [
    {
     "name": "stdout",
     "output_type": "stream",
     "text": [
      "▶ 공유파일 링크변환 경로명 :  https://drive.google.com/uc?id=1ez0tNCX49Cxjzt6Ir4jkxy7Z9TnzOV60\n"
     ]
    }
   ],
   "source": [
    "# 신고접수시 간 2분과 출동시간 5분을 더한 7분\n",
    "# 처음에 랜덤포레스트로 시간을 예측\n",
    "# 그 다음 증상과 시간을 이용한 가중치로 linear Regression으로 위험도 표시\n",
    "# 소요시간이 더 높을수록 높은값이 오게끔하자\n",
    "# 해당 기준을 새워 고위험 저위험 지역판별\n",
    "url = \"https://drive.google.com/file/d/1ez0tNCX49Cxjzt6Ir4jkxy7Z9TnzOV60/view?usp=drive_link\"\n",
    "path = 'https://drive.google.com/uc?id='+url.split('/')[-2]\n",
    "print(\"▶ 공유파일 링크변환 경로명 : \", path)"
   ]
  },
  {
   "cell_type": "code",
   "execution_count": 2,
   "metadata": {
    "colab": {
     "base_uri": "https://localhost:8080/"
    },
    "executionInfo": {
     "elapsed": 1043,
     "status": "ok",
     "timestamp": 1685626615004,
     "user": {
      "displayName": "류관곤",
      "userId": "16262288503980114066"
     },
     "user_tz": -540
    },
    "id": "ANEON42eKvOW",
    "outputId": "9a62889d-009e-4ed8-948d-55d8ae97aa5c"
   },
   "outputs": [],
   "source": [
    "import numpy as np\n",
    "import pandas as pd\n",
    "\n",
    "from tqdm import trange, notebook\n",
    "\n",
    "# df = pd.read_csv(path, encoding='cp949', na_values=np.nan)\n",
    "df = pd.read_csv('../구급활동현황_1.csv', encoding='cp949', na_values=np.nan)"
   ]
  },
  {
   "cell_type": "code",
   "execution_count": 3,
   "metadata": {
    "executionInfo": {
     "elapsed": 1266,
     "status": "ok",
     "timestamp": 1685626646558,
     "user": {
      "displayName": "류관곤",
      "userId": "16262288503980114066"
     },
     "user_tz": -540
    },
    "id": "AYxdgTp9LQXM",
    "scrolled": true
   },
   "outputs": [
    {
     "name": "stdout",
     "output_type": "stream",
     "text": [
      "<class 'pandas.core.frame.DataFrame'>\n",
      "RangeIndex: 35626 entries, 0 to 35625\n",
      "Data columns (total 33 columns):\n",
      " #   Column      Non-Null Count  Dtype  \n",
      "---  ------      --------------  -----  \n",
      " 0   집계년도        35626 non-null  int64  \n",
      " 1   시군명         35626 non-null  object \n",
      " 2   출동소방서       35626 non-null  object \n",
      " 3   출동안전센터      35626 non-null  object \n",
      " 4   신고년월일       35626 non-null  object \n",
      " 5   신고시각        35626 non-null  object \n",
      " 6   접수경로        35626 non-null  object \n",
      " 7   관할구분        35626 non-null  object \n",
      " 8   출동년월일       35626 non-null  object \n",
      " 9   출동시각        35626 non-null  object \n",
      " 10  현장도착년월일     28951 non-null  object \n",
      " 11  현장도착시각      28951 non-null  object \n",
      " 12  현장과의거리      35626 non-null  float64\n",
      " 13  귀소년월일       35625 non-null  object \n",
      " 14  귀소시각        35625 non-null  object \n",
      " 15  환자연령        26907 non-null  float64\n",
      " 16  환자성별        27118 non-null  object \n",
      " 17  긴급구조시       35626 non-null  object \n",
      " 18  긴급구조구       35626 non-null  object \n",
      " 19  긴급구조동       35626 non-null  object \n",
      " 20  긴급구조리       35626 non-null  object \n",
      " 21  외국인여부       35626 non-null  object \n",
      " 22  국적          622 non-null    object \n",
      " 23  구급처종명       31151 non-null  object \n",
      " 24  환자증상1       24788 non-null  object \n",
      " 25  환자증상2       15282 non-null  object \n",
      " 26  질병외_교통사고    1726 non-null   object \n",
      " 27  질병외_사고부상    4926 non-null   object \n",
      " 28  질병외_비외상성손상  632 non-null    object \n",
      " 29  의식상태        26323 non-null  object \n",
      " 30  구급대원1_자격    17889 non-null  object \n",
      " 31  구급대원2_자격    35532 non-null  object \n",
      " 32  운전요원_자격     35610 non-null  object \n",
      "dtypes: float64(2), int64(1), object(30)\n",
      "memory usage: 9.0+ MB\n"
     ]
    }
   ],
   "source": [
    "df.info()"
   ]
  },
  {
   "cell_type": "code",
   "execution_count": 4,
   "metadata": {},
   "outputs": [
    {
     "data": {
      "text/html": [
       "<div>\n",
       "<style scoped>\n",
       "    .dataframe tbody tr th:only-of-type {\n",
       "        vertical-align: middle;\n",
       "    }\n",
       "\n",
       "    .dataframe tbody tr th {\n",
       "        vertical-align: top;\n",
       "    }\n",
       "\n",
       "    .dataframe thead th {\n",
       "        text-align: right;\n",
       "    }\n",
       "</style>\n",
       "<table border=\"1\" class=\"dataframe\">\n",
       "  <thead>\n",
       "    <tr style=\"text-align: right;\">\n",
       "      <th></th>\n",
       "      <th>집계년도</th>\n",
       "      <th>현장과의거리</th>\n",
       "      <th>환자연령</th>\n",
       "    </tr>\n",
       "  </thead>\n",
       "  <tbody>\n",
       "    <tr>\n",
       "      <th>count</th>\n",
       "      <td>35626.0</td>\n",
       "      <td>35626.000000</td>\n",
       "      <td>26907.000000</td>\n",
       "    </tr>\n",
       "    <tr>\n",
       "      <th>mean</th>\n",
       "      <td>2022.0</td>\n",
       "      <td>2.434702</td>\n",
       "      <td>55.852492</td>\n",
       "    </tr>\n",
       "    <tr>\n",
       "      <th>std</th>\n",
       "      <td>0.0</td>\n",
       "      <td>4.520109</td>\n",
       "      <td>22.836608</td>\n",
       "    </tr>\n",
       "    <tr>\n",
       "      <th>min</th>\n",
       "      <td>2022.0</td>\n",
       "      <td>0.000000</td>\n",
       "      <td>0.000000</td>\n",
       "    </tr>\n",
       "    <tr>\n",
       "      <th>25%</th>\n",
       "      <td>2022.0</td>\n",
       "      <td>1.000000</td>\n",
       "      <td>41.000000</td>\n",
       "    </tr>\n",
       "    <tr>\n",
       "      <th>50%</th>\n",
       "      <td>2022.0</td>\n",
       "      <td>1.600000</td>\n",
       "      <td>60.000000</td>\n",
       "    </tr>\n",
       "    <tr>\n",
       "      <th>75%</th>\n",
       "      <td>2022.0</td>\n",
       "      <td>3.000000</td>\n",
       "      <td>74.000000</td>\n",
       "    </tr>\n",
       "    <tr>\n",
       "      <th>max</th>\n",
       "      <td>2022.0</td>\n",
       "      <td>700.000000</td>\n",
       "      <td>106.000000</td>\n",
       "    </tr>\n",
       "  </tbody>\n",
       "</table>\n",
       "</div>"
      ],
      "text/plain": [
       "          집계년도        현장과의거리          환자연령\n",
       "count  35626.0  35626.000000  26907.000000\n",
       "mean    2022.0      2.434702     55.852492\n",
       "std        0.0      4.520109     22.836608\n",
       "min     2022.0      0.000000      0.000000\n",
       "25%     2022.0      1.000000     41.000000\n",
       "50%     2022.0      1.600000     60.000000\n",
       "75%     2022.0      3.000000     74.000000\n",
       "max     2022.0    700.000000    106.000000"
      ]
     },
     "execution_count": 4,
     "metadata": {},
     "output_type": "execute_result"
    }
   ],
   "source": [
    "df.describe()"
   ]
  },
  {
   "cell_type": "code",
   "execution_count": 5,
   "metadata": {
    "scrolled": true
   },
   "outputs": [],
   "source": [
    "drop_columns = ['긴급구조시', '집계년도', '외국인여부', '환자연령', '환자성별', '국적', '구급대원1_자격', '구급대원2_자격', '운전요원_자격', '환자증상2', '질병외_교통사고', '질병외_사고부상', '질병외_비외상성손상', '귀소년월일', '귀소시각']\n",
    "df = df.drop(labels=drop_columns ,axis=1)"
   ]
  },
  {
   "cell_type": "code",
   "execution_count": 6,
   "metadata": {
    "scrolled": true
   },
   "outputs": [
    {
     "data": {
      "text/plain": [
       "시군명            0\n",
       "출동소방서          0\n",
       "출동안전센터         0\n",
       "신고년월일          0\n",
       "신고시각           0\n",
       "접수경로           0\n",
       "관할구분           0\n",
       "출동년월일          0\n",
       "출동시각           0\n",
       "현장도착년월일     6675\n",
       "현장도착시각      6675\n",
       "현장과의거리         0\n",
       "긴급구조구          0\n",
       "긴급구조동          0\n",
       "긴급구조리          0\n",
       "구급처종명       4475\n",
       "환자증상1      10838\n",
       "의식상태        9303\n",
       "dtype: int64"
      ]
     },
     "execution_count": 6,
     "metadata": {},
     "output_type": "execute_result"
    }
   ],
   "source": [
    "df.isna().sum()"
   ]
  },
  {
   "cell_type": "code",
   "execution_count": 7,
   "metadata": {},
   "outputs": [],
   "source": [
    "df = df.dropna(subset=['현장도착시각', '긴급구조구', '긴급구조동', '긴급구조리'])\n",
    "df['접수경로'] = df['접수경로'].fillna('기타')"
   ]
  },
  {
   "cell_type": "code",
   "execution_count": 8,
   "metadata": {},
   "outputs": [],
   "source": [
    "df.loc[df['환자증상1'].notna() & df['환자증상1'].str.contains('기타'), '환자증상1'] = '기타'\n",
    "df['환자증상1'] = df['환자증상1'].fillna('기타')"
   ]
  },
  {
   "cell_type": "code",
   "execution_count": 9,
   "metadata": {},
   "outputs": [],
   "source": [
    "df.loc[df['구급처종명'].notna() & df['구급처종명'].str.contains('기타'), '구급처종명'] = '기타'\n",
    "df['구급처종명'] = df['구급처종명'].fillna('기타')"
   ]
  },
  {
   "cell_type": "code",
   "execution_count": 10,
   "metadata": {},
   "outputs": [],
   "source": [
    "df['의식상태'] = df['의식상태'].fillna('기타')"
   ]
  },
  {
   "cell_type": "code",
   "execution_count": 11,
   "metadata": {},
   "outputs": [],
   "source": [
    "df['출동안전센터'] = df['시군명'] + \" \" + df['출동소방서'] + \" \" + df['출동안전센터']\n",
    "df['긴급구조지역'] = df['긴급구조구'] + ' ' + df['긴급구조동']\n",
    "same_value_mask = df['긴급구조동'] == df['긴급구조리']\n",
    "df.loc[same_value_mask, '긴급구조지역'] = df['긴급구조구'] + ' ' + df['긴급구조동']\n",
    "\n",
    "df = df.drop(labels=['시군명', '출동소방서', '긴급구조구', '긴급구조동', '긴급구조리'] ,axis=1)"
   ]
  },
  {
   "cell_type": "code",
   "execution_count": 12,
   "metadata": {},
   "outputs": [],
   "source": [
    "category_columns = ['출동안전센터', '접수경로', '관할구분', '구급처종명', '긴급구조지역', '환자증상1', '의식상태']\n",
    "\n",
    "for column in category_columns:\n",
    "  df[column] = df[column].astype('category')"
   ]
  },
  {
   "cell_type": "code",
   "execution_count": 13,
   "metadata": {
    "scrolled": true
   },
   "outputs": [],
   "source": [
    "def multiply_time(row):\n",
    "  if pd.isna(row):\n",
    "    return np.nan\n",
    "  time_parts = row.split(':')\n",
    "  hour = int(time_parts[0])\n",
    "  minute = int(time_parts[1])\n",
    "  return (hour * 60) + minute\n",
    "\n",
    "date_columns = [('신고년월일', '신고시각'), ('출동년월일', '출동시각'), ('현장도착년월일', '현장도착시각')]\n",
    "\n",
    "for (first, column) in date_columns:\n",
    "  df[column] = pd.to_datetime(df[first] + \" \" +df[column], format='%Y-%m-%d %H:%M')\n",
    "  df = df.drop(labels=[first] ,axis=1)\n",
    "\n",
    "# df['출동소요시각'] = df['현장도착시각'] - df['신고시각']\n",
    "# df = df.drop(labels=['현장도착시각', '신고시각', '출동시각'] ,axis=1)    \n",
    "    \n",
    "date_columns = ['신고시각', '출동시각', '현장도착시각']\n",
    "for column in date_columns:\n",
    "  df[column] = pd.to_datetime(df[column])\n",
    "#   df[column + '-년'] = df[column].dt.year\n",
    "  df[column + '-월'] = df[column].dt.month\n",
    "  df[column + '-일'] = df[column].dt.day\n",
    "  df[column + '-시간'] = df[column].dt.hour\n",
    "  df[column + '-분'] = df[column].dt.minute\n",
    "  df = df.drop(labels=[column] ,axis=1)\n",
    "\n",
    "df['현장과의거리'] = df['현장과의거리'].astype('float32')"
   ]
  },
  {
   "cell_type": "code",
   "execution_count": 14,
   "metadata": {
    "scrolled": false
   },
   "outputs": [
    {
     "data": {
      "text/html": [
       "<div>\n",
       "<style scoped>\n",
       "    .dataframe tbody tr th:only-of-type {\n",
       "        vertical-align: middle;\n",
       "    }\n",
       "\n",
       "    .dataframe tbody tr th {\n",
       "        vertical-align: top;\n",
       "    }\n",
       "\n",
       "    .dataframe thead th {\n",
       "        text-align: right;\n",
       "    }\n",
       "</style>\n",
       "<table border=\"1\" class=\"dataframe\">\n",
       "  <thead>\n",
       "    <tr style=\"text-align: right;\">\n",
       "      <th></th>\n",
       "      <th>출동안전센터</th>\n",
       "      <th>접수경로</th>\n",
       "      <th>관할구분</th>\n",
       "      <th>현장과의거리</th>\n",
       "      <th>구급처종명</th>\n",
       "      <th>환자증상1</th>\n",
       "      <th>의식상태</th>\n",
       "      <th>긴급구조지역</th>\n",
       "      <th>신고시각-월</th>\n",
       "      <th>신고시각-일</th>\n",
       "      <th>신고시각-시간</th>\n",
       "      <th>신고시각-분</th>\n",
       "      <th>출동시각-월</th>\n",
       "      <th>출동시각-일</th>\n",
       "      <th>출동시각-시간</th>\n",
       "      <th>출동시각-분</th>\n",
       "      <th>현장도착시각-월</th>\n",
       "      <th>현장도착시각-일</th>\n",
       "      <th>현장도착시각-시간</th>\n",
       "      <th>현장도착시각-분</th>\n",
       "    </tr>\n",
       "  </thead>\n",
       "  <tbody>\n",
       "    <tr>\n",
       "      <th>0</th>\n",
       "      <td>성남시 성남소방서 태평119안전센터</td>\n",
       "      <td>휴대전화</td>\n",
       "      <td>센터</td>\n",
       "      <td>0.4</td>\n",
       "      <td>집</td>\n",
       "      <td>고열</td>\n",
       "      <td>A(Alert)</td>\n",
       "      <td>성남시 중원구 은행동</td>\n",
       "      <td>1</td>\n",
       "      <td>1</td>\n",
       "      <td>23</td>\n",
       "      <td>42</td>\n",
       "      <td>1</td>\n",
       "      <td>1</td>\n",
       "      <td>23</td>\n",
       "      <td>45</td>\n",
       "      <td>1</td>\n",
       "      <td>1</td>\n",
       "      <td>23</td>\n",
       "      <td>48</td>\n",
       "    </tr>\n",
       "    <tr>\n",
       "      <th>1</th>\n",
       "      <td>성남시 성남소방서 상대원119안전센터</td>\n",
       "      <td>휴대전화</td>\n",
       "      <td>센터</td>\n",
       "      <td>1.5</td>\n",
       "      <td>기타</td>\n",
       "      <td>기타</td>\n",
       "      <td>기타</td>\n",
       "      <td>성남시 수정구 신흥동</td>\n",
       "      <td>1</td>\n",
       "      <td>1</td>\n",
       "      <td>0</td>\n",
       "      <td>44</td>\n",
       "      <td>1</td>\n",
       "      <td>1</td>\n",
       "      <td>0</td>\n",
       "      <td>47</td>\n",
       "      <td>1</td>\n",
       "      <td>1</td>\n",
       "      <td>0</td>\n",
       "      <td>51</td>\n",
       "    </tr>\n",
       "    <tr>\n",
       "      <th>2</th>\n",
       "      <td>성남시 성남소방서 상대원119안전센터</td>\n",
       "      <td>기타</td>\n",
       "      <td>센터</td>\n",
       "      <td>1.5</td>\n",
       "      <td>상업시설</td>\n",
       "      <td>복통</td>\n",
       "      <td>A(Alert)</td>\n",
       "      <td>성남시 수정구 태평동</td>\n",
       "      <td>1</td>\n",
       "      <td>1</td>\n",
       "      <td>4</td>\n",
       "      <td>51</td>\n",
       "      <td>1</td>\n",
       "      <td>1</td>\n",
       "      <td>4</td>\n",
       "      <td>52</td>\n",
       "      <td>1</td>\n",
       "      <td>1</td>\n",
       "      <td>4</td>\n",
       "      <td>58</td>\n",
       "    </tr>\n",
       "    <tr>\n",
       "      <th>3</th>\n",
       "      <td>성남시 성남소방서 상대원119안전센터</td>\n",
       "      <td>휴대전화</td>\n",
       "      <td>센터</td>\n",
       "      <td>1.5</td>\n",
       "      <td>기타</td>\n",
       "      <td>기타</td>\n",
       "      <td>기타</td>\n",
       "      <td>성남시 중원구 금광동</td>\n",
       "      <td>1</td>\n",
       "      <td>1</td>\n",
       "      <td>9</td>\n",
       "      <td>40</td>\n",
       "      <td>1</td>\n",
       "      <td>1</td>\n",
       "      <td>9</td>\n",
       "      <td>41</td>\n",
       "      <td>1</td>\n",
       "      <td>1</td>\n",
       "      <td>9</td>\n",
       "      <td>45</td>\n",
       "    </tr>\n",
       "    <tr>\n",
       "      <th>4</th>\n",
       "      <td>성남시 성남소방서 상대원119안전센터</td>\n",
       "      <td>휴대전화</td>\n",
       "      <td>센터</td>\n",
       "      <td>1.7</td>\n",
       "      <td>집단거주시설</td>\n",
       "      <td>심정지</td>\n",
       "      <td>U(Coma)</td>\n",
       "      <td>성남시 중원구 금광동</td>\n",
       "      <td>1</td>\n",
       "      <td>1</td>\n",
       "      <td>13</td>\n",
       "      <td>36</td>\n",
       "      <td>1</td>\n",
       "      <td>1</td>\n",
       "      <td>13</td>\n",
       "      <td>40</td>\n",
       "      <td>1</td>\n",
       "      <td>1</td>\n",
       "      <td>13</td>\n",
       "      <td>48</td>\n",
       "    </tr>\n",
       "  </tbody>\n",
       "</table>\n",
       "</div>"
      ],
      "text/plain": [
       "                 출동안전센터  접수경로 관할구분  현장과의거리   구급처종명 환자증상1      의식상태  \\\n",
       "0   성남시 성남소방서 태평119안전센터  휴대전화   센터     0.4       집    고열  A(Alert)   \n",
       "1  성남시 성남소방서 상대원119안전센터  휴대전화   센터     1.5      기타    기타        기타   \n",
       "2  성남시 성남소방서 상대원119안전센터    기타   센터     1.5    상업시설    복통  A(Alert)   \n",
       "3  성남시 성남소방서 상대원119안전센터  휴대전화   센터     1.5      기타    기타        기타   \n",
       "4  성남시 성남소방서 상대원119안전센터  휴대전화   센터     1.7  집단거주시설   심정지   U(Coma)   \n",
       "\n",
       "        긴급구조지역  신고시각-월  신고시각-일  신고시각-시간  신고시각-분  출동시각-월  출동시각-일  출동시각-시간  \\\n",
       "0  성남시 중원구 은행동       1       1       23      42       1       1       23   \n",
       "1  성남시 수정구 신흥동       1       1        0      44       1       1        0   \n",
       "2  성남시 수정구 태평동       1       1        4      51       1       1        4   \n",
       "3  성남시 중원구 금광동       1       1        9      40       1       1        9   \n",
       "4  성남시 중원구 금광동       1       1       13      36       1       1       13   \n",
       "\n",
       "   출동시각-분  현장도착시각-월  현장도착시각-일  현장도착시각-시간  현장도착시각-분  \n",
       "0      45         1         1         23        48  \n",
       "1      47         1         1          0        51  \n",
       "2      52         1         1          4        58  \n",
       "3      41         1         1          9        45  \n",
       "4      40         1         1         13        48  "
      ]
     },
     "execution_count": 14,
     "metadata": {},
     "output_type": "execute_result"
    }
   ],
   "source": [
    "df.head()"
   ]
  },
  {
   "cell_type": "code",
   "execution_count": 15,
   "metadata": {
    "scrolled": true
   },
   "outputs": [
    {
     "name": "stdout",
     "output_type": "stream",
     "text": [
      "<class 'pandas.core.frame.DataFrame'>\n",
      "Int64Index: 28951 entries, 0 to 35625\n",
      "Data columns (total 20 columns):\n",
      " #   Column     Non-Null Count  Dtype   \n",
      "---  ------     --------------  -----   \n",
      " 0   출동안전센터     28951 non-null  category\n",
      " 1   접수경로       28951 non-null  category\n",
      " 2   관할구분       28951 non-null  category\n",
      " 3   현장과의거리     28951 non-null  float32 \n",
      " 4   구급처종명      28951 non-null  category\n",
      " 5   환자증상1      28951 non-null  category\n",
      " 6   의식상태       28951 non-null  category\n",
      " 7   긴급구조지역     28951 non-null  category\n",
      " 8   신고시각-월     28951 non-null  int64   \n",
      " 9   신고시각-일     28951 non-null  int64   \n",
      " 10  신고시각-시간    28951 non-null  int64   \n",
      " 11  신고시각-분     28951 non-null  int64   \n",
      " 12  출동시각-월     28951 non-null  int64   \n",
      " 13  출동시각-일     28951 non-null  int64   \n",
      " 14  출동시각-시간    28951 non-null  int64   \n",
      " 15  출동시각-분     28951 non-null  int64   \n",
      " 16  현장도착시각-월   28951 non-null  int64   \n",
      " 17  현장도착시각-일   28951 non-null  int64   \n",
      " 18  현장도착시각-시간  28951 non-null  int64   \n",
      " 19  현장도착시각-분   28951 non-null  int64   \n",
      "dtypes: category(7), float32(1), int64(12)\n",
      "memory usage: 4.2 MB\n"
     ]
    }
   ],
   "source": [
    "df.info()"
   ]
  },
  {
   "cell_type": "code",
   "execution_count": 16,
   "metadata": {
    "scrolled": true
   },
   "outputs": [
    {
     "data": {
      "text/plain": [
       "출동안전센터       0\n",
       "접수경로         0\n",
       "관할구분         0\n",
       "현장과의거리       0\n",
       "구급처종명        0\n",
       "환자증상1        0\n",
       "의식상태         0\n",
       "긴급구조지역       0\n",
       "신고시각-월       0\n",
       "신고시각-일       0\n",
       "신고시각-시간      0\n",
       "신고시각-분       0\n",
       "출동시각-월       0\n",
       "출동시각-일       0\n",
       "출동시각-시간      0\n",
       "출동시각-분       0\n",
       "현장도착시각-월     0\n",
       "현장도착시각-일     0\n",
       "현장도착시각-시간    0\n",
       "현장도착시각-분     0\n",
       "dtype: int64"
      ]
     },
     "execution_count": 16,
     "metadata": {},
     "output_type": "execute_result"
    }
   ],
   "source": [
    "df.isna().sum()"
   ]
  },
  {
   "cell_type": "code",
   "execution_count": 17,
   "metadata": {
    "scrolled": false
   },
   "outputs": [],
   "source": [
    "from sklearn.model_selection import train_test_split\n",
    "\n",
    "def convert_to_seconds(time_str):\n",
    "    time_delta = pd.Timedelta(time_str)\n",
    "    return time_delta.total_seconds()\n",
    "\n",
    "random_forest_df = df.copy()\n",
    "# random_forest_df = random_forest_df.drop(labels=['환자증상1', '의식상태'], axis=1)\n",
    "\n",
    "\n",
    "categorical_columns = ['출동안전센터', '접수경로', '관할구분', '구급처종명', '긴급구조지역', '환자증상1', '의식상태'\n",
    "                      ,'신고시각-월', '신고시각-일', '신고시각-시간', '신고시각-분'\n",
    "                       ,'출동시각-월', '출동시각-일', '출동시각-시간', '출동시각-분']\n",
    "float_columns = ['현장과의거리']\n",
    "target = ['현장도착시각-월', '현장도착시각-일', '현장도착시각-시간', '현장도착시각-분']\n",
    "\n",
    "\n",
    "# 범주형 변수 인코딩\n",
    "encoded = pd.get_dummies(random_forest_df.drop(labels=(float_columns + target), axis=1))\n",
    "x = pd.concat([encoded, random_forest_df.drop(labels=(categorical_columns + target), axis=1)], axis=1)\n",
    "\n",
    "y = random_forest_df[target]\n",
    "\n",
    "x_train, x_test, y_train, y_test = train_test_split(x, y, test_size=0.2, random_state=1)"
   ]
  },
  {
   "cell_type": "code",
   "execution_count": 19,
   "metadata": {
    "scrolled": true
   },
   "outputs": [
    {
     "name": "stdout",
     "output_type": "stream",
     "text": [
      "MSE: 41.99281015773988\n",
      "MAE: 4.11649715996907\n",
      "R^2 Score: 0.521100923022933\n"
     ]
    }
   ],
   "source": [
    "from sklearn.ensemble import RandomForestRegressor\n",
    "from sklearn.metrics import mean_squared_error, mean_absolute_error, r2_score\n",
    "\n",
    "clf = RandomForestRegressor(n_estimators=20, max_depth=5, random_state=1)\n",
    "clf.fit(x_train, y_train)\n",
    "y_pred = clf.predict(x_test)\n",
    "mse = mean_squared_error(y_test, y_pred)\n",
    "print(\"MSE:\", mse)\n",
    "# MAE 계산\n",
    "mae = mean_absolute_error(y_test, y_pred)\n",
    "print(\"MAE:\", mae)\n",
    "r2 = r2_score(y_test, y_pred)\n",
    "print(\"R^2 Score:\", r2)"
   ]
  },
  {
   "cell_type": "code",
   "execution_count": null,
   "metadata": {},
   "outputs": [],
   "source": [
    "from sklearn.model_selection import GridSearchCV\n",
    "\n",
    "params ={\n",
    "    'n_estimators':[10, 50, 100, 150, 200],\n",
    "    'max_depth':[6,8,10,12, 14, 16],\n",
    "    'min_samples_leaf':[8,12,18],\n",
    "    'min_samples_split':[8,16,20]\n",
    "}\n",
    "\n",
    "rf = RandomForestRegressor(random_state=1, n_jobs=-1)\n",
    "grid_cv = GridSearchCV(rf, param_grid=params, cv=5, n_jobs=-1)\n",
    "grid_cv.fit(x_train, y_train)\n",
    "best_params = grid_cv.best_params_\n",
    "print(best_params)"
   ]
  },
  {
   "cell_type": "code",
   "execution_count": null,
   "metadata": {
    "scrolled": true
   },
   "outputs": [],
   "source": [
    "evaluated_clf = RandomForestRegressor(n_estimators=best_params['n_estimators'],\n",
    "                                      max_depth=best_params['max_depth'],\n",
    "                                      min_samples_leaf=best_params['min_samples_leaf'],\n",
    "                                      min_samples_split=best_params['min_samples_split'],\n",
    "                                      random_state=1)\n",
    "evaluated_clf.fit(x_train, y_train)\n",
    "y_pred = evaluated_clf.predict(x_test)\n",
    "mse = mean_squared_error(y_test, y_pred)\n",
    "print(\"MSE:\", mse)\n",
    "# MAE 계산\n",
    "mae = mean_absolute_error(y_test, y_pred)\n",
    "print(\"MAE:\", mae)\n",
    "r2 = r2_score(y_test, y_pred)\n",
    "print(\"R^2 Score:\", r2)"
   ]
  },
  {
   "cell_type": "code",
   "execution_count": null,
   "metadata": {},
   "outputs": [],
   "source": [
    "from sklearn.preprocessing import PolynomialFeatures\n",
    "from sklearn.linear_model import LinearRegression\n",
    "\n",
    "poly = PolynomialFeatures(degree=2)\n",
    "x_train_poly = poly.fit_transform(x_train)\n",
    "x_test_poly = poly.transform(x_test)\n",
    "\n",
    "model = LinearRegression()\n",
    "model.fit(x_train_poly, y_train)\n",
    "\n",
    "# 테스트 데이터 예측\n",
    "y_pred = model.predict(X_test_poly)\n",
    "\n",
    "# 평가: MSE 계산\n",
    "mse = mean_squared_error(y_test, y_pred)\n",
    "print(\"Mean Squared Error:\", mse)"
   ]
  },
  {
   "cell_type": "code",
   "execution_count": null,
   "metadata": {},
   "outputs": [],
   "source": [
    "폴리노미알 <---------- regression 다항식 <------- 모드 numeric\n",
    "랜포 <------ 예측을 2중 비교 --------"
   ]
  }
 ],
 "metadata": {
  "colab": {
   "authorship_tag": "ABX9TyO1R7mG5L6iZ+vtRjPQaWXF",
   "provenance": []
  },
  "kernelspec": {
   "display_name": "Python 3 (ipykernel)",
   "language": "python",
   "name": "python3"
  },
  "language_info": {
   "codemirror_mode": {
    "name": "ipython",
    "version": 3
   },
   "file_extension": ".py",
   "mimetype": "text/x-python",
   "name": "python",
   "nbconvert_exporter": "python",
   "pygments_lexer": "ipython3",
   "version": "3.9.13"
  }
 },
 "nbformat": 4,
 "nbformat_minor": 1
}
